{
 "cells": [
  {
   "cell_type": "markdown",
   "metadata": {},
   "source": [
    "### Using pre-trained graph embeddings\n",
    "\n",
    "This notebook downloads and evaluates a model that was trained on $50 000$ most frequent tokens from English Wikipedia.\n",
    "You can also use it to score your model using standard benchmarks."
   ]
  },
  {
   "cell_type": "code",
   "execution_count": 1,
   "metadata": {},
   "outputs": [],
   "source": [
    "import numpy as np\n",
    "import matplotlib.pyplot as plt\n",
    "%matplotlib inline\n",
    "import torch\n",
    "import torch.nn as nn\n",
    "from tqdm.auto import tqdm\n",
    "import sys\n",
    "sys.path.insert(0, '..')\n",
    "import lib"
   ]
  },
  {
   "cell_type": "code",
   "execution_count": 2,
   "metadata": {},
   "outputs": [
    {
     "data": {
      "text/plain": [
       "{'self': ParallelGraphEmbedding(50001 vertices, 2789514 edges total, 495388 edges kept, 0.82241 sparsity rate, default distance = 0.0),\n",
       " 'threshold': 0.5,\n",
       " 'bits_per_float': 32,\n",
       " 'bits_per_int': 32,\n",
       " 'num_edges': 495387,\n",
       " 'num_slices': 50002,\n",
       " 'num_vertices': 50003,\n",
       " 'trainable_default': 1,\n",
       " 'num_parameters': 1040778,\n",
       " 'params_per_vertex': 20.81431114133152,\n",
       " 'size_bits': 33304896}"
      ]
     },
     "execution_count": 2,
     "metadata": {},
     "output_type": "execute_result"
    }
   ],
   "source": [
    "# Download the pre-trained model and matching corpora:\n",
    "!wget -q -nc https://www.dropbox.com/s/l69y3n54vfiiyyp/graphglove_wiki50k_dist_20d.model.pth?dl=1 -O graphglove_wiki50k_dist_20d.model.pth\n",
    "model_path = 'graphglove_wiki50k_dist_20d.model.pth'\n",
    "model = torch.load(model_path)\n",
    "model.graph_embedding.report_model_size()"
   ]
  },
  {
   "cell_type": "code",
   "execution_count": 3,
   "metadata": {},
   "outputs": [
    {
     "name": "stderr",
     "output_type": "stream",
     "text": [
      "/opt/conda/conda-bld/pytorch_1587428190859/work/torch/csrc/utils/tensor_numpy.cpp:141: UserWarning: The given NumPy array is not writeable, and PyTorch does not support non-writeable tensors. This means you can write to the underlying (supposedly non-writeable) NumPy array using the tensor. You may want to copy the array to protect its data or make it writeable before converting it to a tensor. This type of warning will be suppressed for the rest of this program.\n"
     ]
    },
    {
     "data": {
      "text/plain": [
       "{'WS353_infer_nan': 0.5548952299583522,\n",
       " 'WS353_omit_nan': 0.5608986055874999,\n",
       " 'SCWS_infer_nan': 0.5169381049048455,\n",
       " 'SCWS_omit_nan': 0.5603445273660402,\n",
       " 'RW_infer_nan': 0.07321699459535888,\n",
       " 'RW_omit_nan': 0.38668954013162754,\n",
       " 'SimLex_infer_nan': 0.3000619770025792,\n",
       " 'SimLex_omit_nan': 0.31156426341082105,\n",
       " 'SimVerb_infer_nan': 0.0897690156071369,\n",
       " 'SimVerb_omit_nan': 0.11991086417467317}"
      ]
     },
     "execution_count": 3,
     "metadata": {},
     "output_type": "execute_result"
    }
   ],
   "source": [
    "lib.task.nlp.evaluate_similarity(model, lowercase=True)"
   ]
  },
  {
   "cell_type": "code",
   "execution_count": null,
   "metadata": {},
   "outputs": [],
   "source": []
  }
 ],
 "metadata": {
  "kernelspec": {
   "display_name": "Python 3",
   "language": "python",
   "name": "python3"
  },
  "language_info": {
   "codemirror_mode": {
    "name": "ipython",
    "version": 3
   },
   "file_extension": ".py",
   "mimetype": "text/x-python",
   "name": "python",
   "nbconvert_exporter": "python",
   "pygments_lexer": "ipython3",
   "version": "3.7.7"
  }
 },
 "nbformat": 4,
 "nbformat_minor": 2
}
